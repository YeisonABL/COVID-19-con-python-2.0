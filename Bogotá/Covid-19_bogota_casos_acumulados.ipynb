{
 "cells": [
  {
   "cell_type": "code",
   "execution_count": 1,
   "metadata": {},
   "outputs": [],
   "source": [
    "import pandas as pd\n",
    "import numpy as np"
   ]
  },
  {
   "cell_type": "code",
   "execution_count": 2,
   "metadata": {},
   "outputs": [
    {
     "data": {
      "text/html": [
       "<div>\n",
       "<style scoped>\n",
       "    .dataframe tbody tr th:only-of-type {\n",
       "        vertical-align: middle;\n",
       "    }\n",
       "\n",
       "    .dataframe tbody tr th {\n",
       "        vertical-align: top;\n",
       "    }\n",
       "\n",
       "    .dataframe thead th {\n",
       "        text-align: right;\n",
       "    }\n",
       "</style>\n",
       "<table border=\"1\" class=\"dataframe\">\n",
       "  <thead>\n",
       "    <tr style=\"text-align: right;\">\n",
       "      <th></th>\n",
       "      <th>FECHA_DIAGNOSTICO</th>\n",
       "      <th>CASO</th>\n",
       "      <th>CASOS_ACUMULADOS</th>\n",
       "      <th>RECUPERADO</th>\n",
       "      <th>RECUPERADOS_ACUMULADOS</th>\n",
       "      <th>FALLECIDOS</th>\n",
       "      <th>FALLECIDOS_ACUMULADOS</th>\n",
       "    </tr>\n",
       "  </thead>\n",
       "  <tbody>\n",
       "    <tr>\n",
       "      <th>0</th>\n",
       "      <td>2020-03-06</td>\n",
       "      <td>1</td>\n",
       "      <td>1</td>\n",
       "      <td>1</td>\n",
       "      <td>1</td>\n",
       "      <td>0</td>\n",
       "      <td>0</td>\n",
       "    </tr>\n",
       "    <tr>\n",
       "      <th>1</th>\n",
       "      <td>2020-03-07</td>\n",
       "      <td>0</td>\n",
       "      <td>1</td>\n",
       "      <td>0</td>\n",
       "      <td>1</td>\n",
       "      <td>0</td>\n",
       "      <td>0</td>\n",
       "    </tr>\n",
       "    <tr>\n",
       "      <th>2</th>\n",
       "      <td>2020-03-08</td>\n",
       "      <td>0</td>\n",
       "      <td>1</td>\n",
       "      <td>0</td>\n",
       "      <td>1</td>\n",
       "      <td>0</td>\n",
       "      <td>0</td>\n",
       "    </tr>\n",
       "    <tr>\n",
       "      <th>3</th>\n",
       "      <td>2020-03-09</td>\n",
       "      <td>0</td>\n",
       "      <td>1</td>\n",
       "      <td>0</td>\n",
       "      <td>1</td>\n",
       "      <td>0</td>\n",
       "      <td>0</td>\n",
       "    </tr>\n",
       "    <tr>\n",
       "      <th>4</th>\n",
       "      <td>2020-03-10</td>\n",
       "      <td>2</td>\n",
       "      <td>3</td>\n",
       "      <td>2</td>\n",
       "      <td>3</td>\n",
       "      <td>0</td>\n",
       "      <td>0</td>\n",
       "    </tr>\n",
       "    <tr>\n",
       "      <th>...</th>\n",
       "      <td>...</td>\n",
       "      <td>...</td>\n",
       "      <td>...</td>\n",
       "      <td>...</td>\n",
       "      <td>...</td>\n",
       "      <td>...</td>\n",
       "      <td>...</td>\n",
       "    </tr>\n",
       "    <tr>\n",
       "      <th>678</th>\n",
       "      <td>2022-01-13</td>\n",
       "      <td>8075</td>\n",
       "      <td>1565063</td>\n",
       "      <td>168</td>\n",
       "      <td>1484374</td>\n",
       "      <td>5</td>\n",
       "      <td>27949</td>\n",
       "    </tr>\n",
       "    <tr>\n",
       "      <th>679</th>\n",
       "      <td>2022-01-14</td>\n",
       "      <td>7942</td>\n",
       "      <td>1573005</td>\n",
       "      <td>174</td>\n",
       "      <td>1484548</td>\n",
       "      <td>1</td>\n",
       "      <td>27950</td>\n",
       "    </tr>\n",
       "    <tr>\n",
       "      <th>680</th>\n",
       "      <td>2022-01-15</td>\n",
       "      <td>6754</td>\n",
       "      <td>1579759</td>\n",
       "      <td>235</td>\n",
       "      <td>1484783</td>\n",
       "      <td>7</td>\n",
       "      <td>27957</td>\n",
       "    </tr>\n",
       "    <tr>\n",
       "      <th>681</th>\n",
       "      <td>2022-01-16</td>\n",
       "      <td>5333</td>\n",
       "      <td>1585092</td>\n",
       "      <td>31</td>\n",
       "      <td>1484814</td>\n",
       "      <td>2</td>\n",
       "      <td>27959</td>\n",
       "    </tr>\n",
       "    <tr>\n",
       "      <th>682</th>\n",
       "      <td>2022-01-17</td>\n",
       "      <td>607</td>\n",
       "      <td>1585699</td>\n",
       "      <td>4</td>\n",
       "      <td>1484818</td>\n",
       "      <td>0</td>\n",
       "      <td>27959</td>\n",
       "    </tr>\n",
       "  </tbody>\n",
       "</table>\n",
       "<p>683 rows × 7 columns</p>\n",
       "</div>"
      ],
      "text/plain": [
       "    FECHA_DIAGNOSTICO  CASO  CASOS_ACUMULADOS  RECUPERADO  \\\n",
       "0          2020-03-06     1                 1           1   \n",
       "1          2020-03-07     0                 1           0   \n",
       "2          2020-03-08     0                 1           0   \n",
       "3          2020-03-09     0                 1           0   \n",
       "4          2020-03-10     2                 3           2   \n",
       "..                ...   ...               ...         ...   \n",
       "678        2022-01-13  8075           1565063         168   \n",
       "679        2022-01-14  7942           1573005         174   \n",
       "680        2022-01-15  6754           1579759         235   \n",
       "681        2022-01-16  5333           1585092          31   \n",
       "682        2022-01-17   607           1585699           4   \n",
       "\n",
       "     RECUPERADOS_ACUMULADOS  FALLECIDOS  FALLECIDOS_ACUMULADOS  \n",
       "0                         1           0                      0  \n",
       "1                         1           0                      0  \n",
       "2                         1           0                      0  \n",
       "3                         1           0                      0  \n",
       "4                         3           0                      0  \n",
       "..                      ...         ...                    ...  \n",
       "678                 1484374           5                  27949  \n",
       "679                 1484548           1                  27950  \n",
       "680                 1484783           7                  27957  \n",
       "681                 1484814           2                  27959  \n",
       "682                 1484818           0                  27959  \n",
       "\n",
       "[683 rows x 7 columns]"
      ]
     },
     "execution_count": 2,
     "metadata": {},
     "output_type": "execute_result"
    }
   ],
   "source": [
    "bogota = pd.read_csv('bogota.csv')\n",
    "bogota"
   ]
  },
  {
   "cell_type": "code",
   "execution_count": 3,
   "metadata": {},
   "outputs": [
    {
     "data": {
      "text/html": [
       "<div>\n",
       "<style scoped>\n",
       "    .dataframe tbody tr th:only-of-type {\n",
       "        vertical-align: middle;\n",
       "    }\n",
       "\n",
       "    .dataframe tbody tr th {\n",
       "        vertical-align: top;\n",
       "    }\n",
       "\n",
       "    .dataframe thead th {\n",
       "        text-align: right;\n",
       "    }\n",
       "</style>\n",
       "<table border=\"1\" class=\"dataframe\">\n",
       "  <thead>\n",
       "    <tr style=\"text-align: right;\">\n",
       "      <th></th>\n",
       "      <th>FECHA_DIAGNOSTICO</th>\n",
       "      <th>CASOS_ACUMULADOS</th>\n",
       "    </tr>\n",
       "  </thead>\n",
       "  <tbody>\n",
       "    <tr>\n",
       "      <th>0</th>\n",
       "      <td>2020-03-06</td>\n",
       "      <td>1</td>\n",
       "    </tr>\n",
       "    <tr>\n",
       "      <th>1</th>\n",
       "      <td>2020-03-07</td>\n",
       "      <td>1</td>\n",
       "    </tr>\n",
       "    <tr>\n",
       "      <th>2</th>\n",
       "      <td>2020-03-08</td>\n",
       "      <td>1</td>\n",
       "    </tr>\n",
       "    <tr>\n",
       "      <th>3</th>\n",
       "      <td>2020-03-09</td>\n",
       "      <td>1</td>\n",
       "    </tr>\n",
       "    <tr>\n",
       "      <th>4</th>\n",
       "      <td>2020-03-10</td>\n",
       "      <td>3</td>\n",
       "    </tr>\n",
       "    <tr>\n",
       "      <th>...</th>\n",
       "      <td>...</td>\n",
       "      <td>...</td>\n",
       "    </tr>\n",
       "    <tr>\n",
       "      <th>678</th>\n",
       "      <td>2022-01-13</td>\n",
       "      <td>1565063</td>\n",
       "    </tr>\n",
       "    <tr>\n",
       "      <th>679</th>\n",
       "      <td>2022-01-14</td>\n",
       "      <td>1573005</td>\n",
       "    </tr>\n",
       "    <tr>\n",
       "      <th>680</th>\n",
       "      <td>2022-01-15</td>\n",
       "      <td>1579759</td>\n",
       "    </tr>\n",
       "    <tr>\n",
       "      <th>681</th>\n",
       "      <td>2022-01-16</td>\n",
       "      <td>1585092</td>\n",
       "    </tr>\n",
       "    <tr>\n",
       "      <th>682</th>\n",
       "      <td>2022-01-17</td>\n",
       "      <td>1585699</td>\n",
       "    </tr>\n",
       "  </tbody>\n",
       "</table>\n",
       "<p>683 rows × 2 columns</p>\n",
       "</div>"
      ],
      "text/plain": [
       "    FECHA_DIAGNOSTICO  CASOS_ACUMULADOS\n",
       "0          2020-03-06                 1\n",
       "1          2020-03-07                 1\n",
       "2          2020-03-08                 1\n",
       "3          2020-03-09                 1\n",
       "4          2020-03-10                 3\n",
       "..                ...               ...\n",
       "678        2022-01-13           1565063\n",
       "679        2022-01-14           1573005\n",
       "680        2022-01-15           1579759\n",
       "681        2022-01-16           1585092\n",
       "682        2022-01-17           1585699\n",
       "\n",
       "[683 rows x 2 columns]"
      ]
     },
     "execution_count": 3,
     "metadata": {},
     "output_type": "execute_result"
    }
   ],
   "source": [
    "bogota_cases = bogota.drop(['CASO', 'RECUPERADO', 'RECUPERADOS_ACUMULADOS','FALLECIDOS','FALLECIDOS_ACUMULADOS'],axis=1)\n",
    "bogota_cases"
   ]
  },
  {
   "cell_type": "code",
   "execution_count": 4,
   "metadata": {},
   "outputs": [
    {
     "data": {
      "text/html": [
       "<div>\n",
       "<style scoped>\n",
       "    .dataframe tbody tr th:only-of-type {\n",
       "        vertical-align: middle;\n",
       "    }\n",
       "\n",
       "    .dataframe tbody tr th {\n",
       "        vertical-align: top;\n",
       "    }\n",
       "\n",
       "    .dataframe thead th {\n",
       "        text-align: right;\n",
       "    }\n",
       "</style>\n",
       "<table border=\"1\" class=\"dataframe\">\n",
       "  <thead>\n",
       "    <tr style=\"text-align: right;\">\n",
       "      <th></th>\n",
       "      <th>CASOS_ACUMULADOS</th>\n",
       "    </tr>\n",
       "    <tr>\n",
       "      <th>FECHA_DIAGNOSTICO</th>\n",
       "      <th></th>\n",
       "    </tr>\n",
       "  </thead>\n",
       "  <tbody>\n",
       "    <tr>\n",
       "      <th>2020-03-06</th>\n",
       "      <td>1</td>\n",
       "    </tr>\n",
       "    <tr>\n",
       "      <th>2020-03-07</th>\n",
       "      <td>1</td>\n",
       "    </tr>\n",
       "    <tr>\n",
       "      <th>2020-03-08</th>\n",
       "      <td>1</td>\n",
       "    </tr>\n",
       "    <tr>\n",
       "      <th>2020-03-09</th>\n",
       "      <td>1</td>\n",
       "    </tr>\n",
       "    <tr>\n",
       "      <th>2020-03-10</th>\n",
       "      <td>3</td>\n",
       "    </tr>\n",
       "    <tr>\n",
       "      <th>...</th>\n",
       "      <td>...</td>\n",
       "    </tr>\n",
       "    <tr>\n",
       "      <th>2022-01-13</th>\n",
       "      <td>1565063</td>\n",
       "    </tr>\n",
       "    <tr>\n",
       "      <th>2022-01-14</th>\n",
       "      <td>1573005</td>\n",
       "    </tr>\n",
       "    <tr>\n",
       "      <th>2022-01-15</th>\n",
       "      <td>1579759</td>\n",
       "    </tr>\n",
       "    <tr>\n",
       "      <th>2022-01-16</th>\n",
       "      <td>1585092</td>\n",
       "    </tr>\n",
       "    <tr>\n",
       "      <th>2022-01-17</th>\n",
       "      <td>1585699</td>\n",
       "    </tr>\n",
       "  </tbody>\n",
       "</table>\n",
       "<p>683 rows × 1 columns</p>\n",
       "</div>"
      ],
      "text/plain": [
       "                   CASOS_ACUMULADOS\n",
       "FECHA_DIAGNOSTICO                  \n",
       "2020-03-06                        1\n",
       "2020-03-07                        1\n",
       "2020-03-08                        1\n",
       "2020-03-09                        1\n",
       "2020-03-10                        3\n",
       "...                             ...\n",
       "2022-01-13                  1565063\n",
       "2022-01-14                  1573005\n",
       "2022-01-15                  1579759\n",
       "2022-01-16                  1585092\n",
       "2022-01-17                  1585699\n",
       "\n",
       "[683 rows x 1 columns]"
      ]
     },
     "execution_count": 4,
     "metadata": {},
     "output_type": "execute_result"
    }
   ],
   "source": [
    "bogota_cases.set_index('FECHA_DIAGNOSTICO', inplace = True)\n",
    "bogota_cases"
   ]
  },
  {
   "cell_type": "code",
   "execution_count": 5,
   "metadata": {},
   "outputs": [
    {
     "data": {
      "text/html": [
       "<div>\n",
       "<style scoped>\n",
       "    .dataframe tbody tr th:only-of-type {\n",
       "        vertical-align: middle;\n",
       "    }\n",
       "\n",
       "    .dataframe tbody tr th {\n",
       "        vertical-align: top;\n",
       "    }\n",
       "\n",
       "    .dataframe thead th {\n",
       "        text-align: right;\n",
       "    }\n",
       "</style>\n",
       "<table border=\"1\" class=\"dataframe\">\n",
       "  <thead>\n",
       "    <tr style=\"text-align: right;\">\n",
       "      <th></th>\n",
       "      <th>CASOS_ACUMULADOS</th>\n",
       "    </tr>\n",
       "    <tr>\n",
       "      <th>FECHA_DIAGNOSTICO</th>\n",
       "      <th></th>\n",
       "    </tr>\n",
       "  </thead>\n",
       "  <tbody>\n",
       "    <tr>\n",
       "      <th>2020-03-06</th>\n",
       "      <td>1</td>\n",
       "    </tr>\n",
       "    <tr>\n",
       "      <th>2020-03-07</th>\n",
       "      <td>1</td>\n",
       "    </tr>\n",
       "    <tr>\n",
       "      <th>2020-03-08</th>\n",
       "      <td>1</td>\n",
       "    </tr>\n",
       "    <tr>\n",
       "      <th>2020-03-09</th>\n",
       "      <td>1</td>\n",
       "    </tr>\n",
       "    <tr>\n",
       "      <th>2020-03-10</th>\n",
       "      <td>3</td>\n",
       "    </tr>\n",
       "    <tr>\n",
       "      <th>...</th>\n",
       "      <td>...</td>\n",
       "    </tr>\n",
       "    <tr>\n",
       "      <th>2020-07-17</th>\n",
       "      <td>63192</td>\n",
       "    </tr>\n",
       "    <tr>\n",
       "      <th>2020-07-18</th>\n",
       "      <td>65655</td>\n",
       "    </tr>\n",
       "    <tr>\n",
       "      <th>2020-07-19</th>\n",
       "      <td>68127</td>\n",
       "    </tr>\n",
       "    <tr>\n",
       "      <th>2020-07-20</th>\n",
       "      <td>69929</td>\n",
       "    </tr>\n",
       "    <tr>\n",
       "      <th>2020-07-21</th>\n",
       "      <td>73533</td>\n",
       "    </tr>\n",
       "  </tbody>\n",
       "</table>\n",
       "<p>138 rows × 1 columns</p>\n",
       "</div>"
      ],
      "text/plain": [
       "                   CASOS_ACUMULADOS\n",
       "FECHA_DIAGNOSTICO                  \n",
       "2020-03-06                        1\n",
       "2020-03-07                        1\n",
       "2020-03-08                        1\n",
       "2020-03-09                        1\n",
       "2020-03-10                        3\n",
       "...                             ...\n",
       "2020-07-17                    63192\n",
       "2020-07-18                    65655\n",
       "2020-07-19                    68127\n",
       "2020-07-20                    69929\n",
       "2020-07-21                    73533\n",
       "\n",
       "[138 rows x 1 columns]"
      ]
     },
     "execution_count": 5,
     "metadata": {},
     "output_type": "execute_result"
    }
   ],
   "source": [
    "train = bogota_cases[:138]\n",
    "train"
   ]
  },
  {
   "cell_type": "code",
   "execution_count": 6,
   "metadata": {},
   "outputs": [
    {
     "data": {
      "text/html": [
       "<div>\n",
       "<style scoped>\n",
       "    .dataframe tbody tr th:only-of-type {\n",
       "        vertical-align: middle;\n",
       "    }\n",
       "\n",
       "    .dataframe tbody tr th {\n",
       "        vertical-align: top;\n",
       "    }\n",
       "\n",
       "    .dataframe thead th {\n",
       "        text-align: right;\n",
       "    }\n",
       "</style>\n",
       "<table border=\"1\" class=\"dataframe\">\n",
       "  <thead>\n",
       "    <tr style=\"text-align: right;\">\n",
       "      <th></th>\n",
       "      <th>CASOS_ACUMULADOS</th>\n",
       "    </tr>\n",
       "    <tr>\n",
       "      <th>FECHA_DIAGNOSTICO</th>\n",
       "      <th></th>\n",
       "    </tr>\n",
       "  </thead>\n",
       "  <tbody>\n",
       "    <tr>\n",
       "      <th>2020-07-22</th>\n",
       "      <td>77437</td>\n",
       "    </tr>\n",
       "    <tr>\n",
       "      <th>2020-07-23</th>\n",
       "      <td>79880</td>\n",
       "    </tr>\n",
       "    <tr>\n",
       "      <th>2020-07-24</th>\n",
       "      <td>83604</td>\n",
       "    </tr>\n",
       "    <tr>\n",
       "      <th>2020-07-25</th>\n",
       "      <td>86717</td>\n",
       "    </tr>\n",
       "    <tr>\n",
       "      <th>2020-07-26</th>\n",
       "      <td>89002</td>\n",
       "    </tr>\n",
       "    <tr>\n",
       "      <th>2020-07-27</th>\n",
       "      <td>92710</td>\n",
       "    </tr>\n",
       "    <tr>\n",
       "      <th>2020-07-28</th>\n",
       "      <td>96653</td>\n",
       "    </tr>\n",
       "    <tr>\n",
       "      <th>2020-07-29</th>\n",
       "      <td>99736</td>\n",
       "    </tr>\n",
       "    <tr>\n",
       "      <th>2020-07-30</th>\n",
       "      <td>103354</td>\n",
       "    </tr>\n",
       "    <tr>\n",
       "      <th>2020-07-31</th>\n",
       "      <td>107086</td>\n",
       "    </tr>\n",
       "    <tr>\n",
       "      <th>2020-08-01</th>\n",
       "      <td>110960</td>\n",
       "    </tr>\n",
       "    <tr>\n",
       "      <th>2020-08-02</th>\n",
       "      <td>113427</td>\n",
       "    </tr>\n",
       "    <tr>\n",
       "      <th>2020-08-03</th>\n",
       "      <td>116606</td>\n",
       "    </tr>\n",
       "    <tr>\n",
       "      <th>2020-08-04</th>\n",
       "      <td>121973</td>\n",
       "    </tr>\n",
       "  </tbody>\n",
       "</table>\n",
       "</div>"
      ],
      "text/plain": [
       "                   CASOS_ACUMULADOS\n",
       "FECHA_DIAGNOSTICO                  \n",
       "2020-07-22                    77437\n",
       "2020-07-23                    79880\n",
       "2020-07-24                    83604\n",
       "2020-07-25                    86717\n",
       "2020-07-26                    89002\n",
       "2020-07-27                    92710\n",
       "2020-07-28                    96653\n",
       "2020-07-29                    99736\n",
       "2020-07-30                   103354\n",
       "2020-07-31                   107086\n",
       "2020-08-01                   110960\n",
       "2020-08-02                   113427\n",
       "2020-08-03                   116606\n",
       "2020-08-04                   121973"
      ]
     },
     "execution_count": 6,
     "metadata": {},
     "output_type": "execute_result"
    }
   ],
   "source": [
    "test = bogota_cases[138:138+14]\n",
    "test"
   ]
  },
  {
   "cell_type": "code",
   "execution_count": 7,
   "metadata": {},
   "outputs": [],
   "source": [
    "from sklearn.preprocessing import MinMaxScaler"
   ]
  },
  {
   "cell_type": "code",
   "execution_count": 8,
   "metadata": {},
   "outputs": [
    {
     "data": {
      "text/plain": [
       "MinMaxScaler()"
      ]
     },
     "execution_count": 8,
     "metadata": {},
     "output_type": "execute_result"
    }
   ],
   "source": [
    "scaler = MinMaxScaler()\n",
    "scaler.fit(train)"
   ]
  },
  {
   "cell_type": "code",
   "execution_count": 9,
   "metadata": {},
   "outputs": [],
   "source": [
    "train_scaled =scaler.transform(train)\n",
    "test_scaled = scaler.transform(test)"
   ]
  },
  {
   "cell_type": "code",
   "execution_count": 10,
   "metadata": {},
   "outputs": [],
   "source": [
    "from keras.preprocessing.sequence import TimeseriesGenerator"
   ]
  },
  {
   "cell_type": "code",
   "execution_count": 11,
   "metadata": {},
   "outputs": [
    {
     "name": "stdout",
     "output_type": "stream",
     "text": [
      "Total number of samples in the original training data =  138\n",
      "Total number of samples in the generated data =  108\n"
     ]
    }
   ],
   "source": [
    "window_size= 30\n",
    "n_features= 1\n",
    "batch_size = 1\n",
    "train_generator = TimeseriesGenerator(train_scaled, train_scaled, length= window_size, batch_size=batch_size)\n",
    "print(\"Total number of samples in the original training data = \", len(train))\n",
    "print(\"Total number of samples in the generated data = \", len(train_generator))"
   ]
  },
  {
   "cell_type": "code",
   "execution_count": 12,
   "metadata": {},
   "outputs": [
    {
     "data": {
      "text/plain": [
       "(1, 1)"
      ]
     },
     "execution_count": 12,
     "metadata": {},
     "output_type": "execute_result"
    }
   ],
   "source": [
    "x_train, y_train = train_generator[0]\n",
    "x_train.shape\n",
    "y_train.shape"
   ]
  },
  {
   "cell_type": "code",
   "execution_count": 13,
   "metadata": {},
   "outputs": [
    {
     "name": "stdout",
     "output_type": "stream",
     "text": [
      "Total number of samples in the original training data =  14\n",
      "Total number of sambles in the generated data 1\n"
     ]
    }
   ],
   "source": [
    "test_generator = TimeseriesGenerator(test_scaled, test_scaled, length=len(test)-1 ,batch_size=batch_size)\n",
    "print(\"Total number of samples in the original training data = \", len(test))\n",
    "print(\"Total number of sambles in the generated data\", len(test_generator))"
   ]
  },
  {
   "cell_type": "code",
   "execution_count": 14,
   "metadata": {},
   "outputs": [],
   "source": [
    "from keras.models import Sequential\n",
    "from keras.layers import Dense, LSTM, Dropout, Activation\n",
    "from tensorflow.keras.optimizers import Adam \n",
    "from tensorflow.keras.metrics import RootMeanSquaredError"
   ]
  },
  {
   "cell_type": "code",
   "execution_count": 15,
   "metadata": {},
   "outputs": [
    {
     "name": "stdout",
     "output_type": "stream",
     "text": [
      "Model: \"sequential\"\n",
      "_________________________________________________________________\n",
      " Layer (type)                Output Shape              Param #   \n",
      "=================================================================\n",
      " lstm (LSTM)                 (None, 30, 300)           362400    \n",
      "                                                                 \n",
      " lstm_1 (LSTM)               (None, 300)               721200    \n",
      "                                                                 \n",
      " dense (Dense)               (None, 1)                 301       \n",
      "                                                                 \n",
      "=================================================================\n",
      "Total params: 1,083,901\n",
      "Trainable params: 1,083,901\n",
      "Non-trainable params: 0\n",
      "_________________________________________________________________\n"
     ]
    }
   ],
   "source": [
    "model = Sequential()\n",
    "model.add(LSTM(300, activation='relu', return_sequences=True, input_shape=(window_size, n_features)))\n",
    "model.add(LSTM(300, activation='relu'))\n",
    "model.add(Dense(1))\n",
    "model.compile(optimizer=Adam(learning_rate=0.0001), loss='mean_squared_error',metrics=[RootMeanSquaredError()])\n",
    "model.summary()"
   ]
  },
  {
   "cell_type": "code",
   "execution_count": 16,
   "metadata": {},
   "outputs": [
    {
     "name": "stdout",
     "output_type": "stream",
     "text": [
      "Epoch 1/100\n",
      "108/108 [==============================] - 17s 138ms/step - loss: 0.0535 - root_mean_squared_error: 0.2313 - val_loss: 0.2316 - val_root_mean_squared_error: 0.4812\n",
      "Epoch 2/100\n",
      "108/108 [==============================] - 16s 148ms/step - loss: 0.0016 - root_mean_squared_error: 0.0400 - val_loss: 0.4264 - val_root_mean_squared_error: 0.6530\n",
      "Epoch 3/100\n",
      "108/108 [==============================] - 16s 146ms/step - loss: 2.0749e-04 - root_mean_squared_error: 0.0144 - val_loss: 0.3665 - val_root_mean_squared_error: 0.6054\n",
      "Epoch 4/100\n",
      "108/108 [==============================] - 16s 152ms/step - loss: 1.2847e-04 - root_mean_squared_error: 0.0113 - val_loss: 0.3699 - val_root_mean_squared_error: 0.6082\n",
      "Epoch 5/100\n",
      "108/108 [==============================] - 15s 143ms/step - loss: 7.9559e-05 - root_mean_squared_error: 0.0089 - val_loss: 0.3957 - val_root_mean_squared_error: 0.6291\n",
      "Epoch 6/100\n",
      "108/108 [==============================] - 15s 141ms/step - loss: 9.4555e-05 - root_mean_squared_error: 0.0097 - val_loss: 0.4466 - val_root_mean_squared_error: 0.6683\n",
      "Epoch 7/100\n",
      "108/108 [==============================] - 16s 144ms/step - loss: 8.0996e-05 - root_mean_squared_error: 0.0090 - val_loss: 0.4204 - val_root_mean_squared_error: 0.6484\n",
      "Epoch 8/100\n",
      "108/108 [==============================] - 16s 150ms/step - loss: 4.7652e-05 - root_mean_squared_error: 0.0069 - val_loss: 0.4263 - val_root_mean_squared_error: 0.6529\n",
      "Epoch 9/100\n",
      "108/108 [==============================] - 16s 148ms/step - loss: 1.1512e-04 - root_mean_squared_error: 0.0107 - val_loss: 0.3665 - val_root_mean_squared_error: 0.6054\n",
      "Epoch 10/100\n",
      "108/108 [==============================] - 16s 148ms/step - loss: 7.6326e-05 - root_mean_squared_error: 0.0087 - val_loss: 0.4268 - val_root_mean_squared_error: 0.6533\n",
      "Epoch 11/100\n",
      "108/108 [==============================] - 16s 151ms/step - loss: 2.0930e-04 - root_mean_squared_error: 0.0145 - val_loss: 0.3985 - val_root_mean_squared_error: 0.6312\n",
      "Epoch 12/100\n",
      "108/108 [==============================] - 16s 150ms/step - loss: 4.9675e-05 - root_mean_squared_error: 0.0070 - val_loss: 0.4144 - val_root_mean_squared_error: 0.6438\n",
      "Epoch 13/100\n",
      "108/108 [==============================] - 17s 157ms/step - loss: 2.9669e-05 - root_mean_squared_error: 0.0054 - val_loss: 0.4089 - val_root_mean_squared_error: 0.6394\n",
      "Epoch 14/100\n",
      "108/108 [==============================] - 17s 153ms/step - loss: 1.2448e-04 - root_mean_squared_error: 0.0112 - val_loss: 0.4319 - val_root_mean_squared_error: 0.6572\n",
      "Epoch 15/100\n",
      "108/108 [==============================] - 17s 160ms/step - loss: 1.1239e-04 - root_mean_squared_error: 0.0106 - val_loss: 0.4721 - val_root_mean_squared_error: 0.6871\n",
      "Epoch 16/100\n",
      "108/108 [==============================] - 17s 154ms/step - loss: 3.7925e-04 - root_mean_squared_error: 0.0195 - val_loss: 0.3757 - val_root_mean_squared_error: 0.6130\n",
      "Epoch 17/100\n",
      "108/108 [==============================] - 16s 149ms/step - loss: 1.2290e-04 - root_mean_squared_error: 0.0111 - val_loss: 0.3893 - val_root_mean_squared_error: 0.6239\n",
      "Epoch 18/100\n",
      "108/108 [==============================] - 15s 138ms/step - loss: 7.5891e-05 - root_mean_squared_error: 0.0087 - val_loss: 0.4139 - val_root_mean_squared_error: 0.6434\n",
      "Epoch 19/100\n",
      "108/108 [==============================] - 15s 137ms/step - loss: 1.6820e-04 - root_mean_squared_error: 0.0130 - val_loss: 0.4199 - val_root_mean_squared_error: 0.6480\n",
      "Epoch 20/100\n",
      "108/108 [==============================] - 15s 139ms/step - loss: 2.3677e-04 - root_mean_squared_error: 0.0154 - val_loss: 0.3911 - val_root_mean_squared_error: 0.6254\n",
      "Epoch 21/100\n",
      "108/108 [==============================] - 15s 141ms/step - loss: 4.5042e-05 - root_mean_squared_error: 0.0067 - val_loss: 0.3813 - val_root_mean_squared_error: 0.6175\n",
      "Epoch 22/100\n",
      "108/108 [==============================] - 16s 144ms/step - loss: 9.6903e-05 - root_mean_squared_error: 0.0098 - val_loss: 0.3330 - val_root_mean_squared_error: 0.5770\n",
      "Epoch 23/100\n",
      "108/108 [==============================] - 15s 136ms/step - loss: 6.9270e-04 - root_mean_squared_error: 0.0263 - val_loss: 0.3181 - val_root_mean_squared_error: 0.5640\n",
      "Epoch 24/100\n",
      "108/108 [==============================] - 15s 136ms/step - loss: 9.6998e-05 - root_mean_squared_error: 0.0098 - val_loss: 0.3194 - val_root_mean_squared_error: 0.5652\n",
      "Epoch 25/100\n",
      "108/108 [==============================] - 15s 139ms/step - loss: 1.3574e-04 - root_mean_squared_error: 0.0117 - val_loss: 0.3803 - val_root_mean_squared_error: 0.6166\n",
      "Epoch 26/100\n",
      "108/108 [==============================] - 15s 137ms/step - loss: 2.3681e-04 - root_mean_squared_error: 0.0154 - val_loss: 0.4568 - val_root_mean_squared_error: 0.6758\n",
      "Epoch 27/100\n",
      "108/108 [==============================] - 15s 136ms/step - loss: 1.4593e-04 - root_mean_squared_error: 0.0121 - val_loss: 0.3703 - val_root_mean_squared_error: 0.6085\n",
      "Epoch 28/100\n",
      "108/108 [==============================] - 15s 141ms/step - loss: 6.7616e-05 - root_mean_squared_error: 0.0082 - val_loss: 0.3687 - val_root_mean_squared_error: 0.6072\n",
      "Epoch 29/100\n",
      "108/108 [==============================] - 15s 143ms/step - loss: 8.9555e-05 - root_mean_squared_error: 0.0095 - val_loss: 0.3228 - val_root_mean_squared_error: 0.5681\n",
      "Epoch 30/100\n",
      "108/108 [==============================] - 15s 142ms/step - loss: 3.7844e-04 - root_mean_squared_error: 0.0195 - val_loss: 0.3186 - val_root_mean_squared_error: 0.5644\n",
      "Epoch 31/100\n",
      "108/108 [==============================] - 15s 138ms/step - loss: 8.3996e-05 - root_mean_squared_error: 0.0092 - val_loss: 0.3517 - val_root_mean_squared_error: 0.5931\n",
      "Epoch 32/100\n",
      "108/108 [==============================] - 15s 138ms/step - loss: 4.3343e-05 - root_mean_squared_error: 0.0066 - val_loss: 0.3559 - val_root_mean_squared_error: 0.5965\n",
      "Epoch 33/100\n",
      "108/108 [==============================] - 15s 138ms/step - loss: 1.2248e-04 - root_mean_squared_error: 0.0111 - val_loss: 0.3197 - val_root_mean_squared_error: 0.5654\n",
      "Epoch 34/100\n",
      "108/108 [==============================] - 15s 139ms/step - loss: 6.5729e-05 - root_mean_squared_error: 0.0081 - val_loss: 0.3127 - val_root_mean_squared_error: 0.5592\n",
      "Epoch 35/100\n",
      "108/108 [==============================] - 16s 148ms/step - loss: 7.3048e-04 - root_mean_squared_error: 0.0270 - val_loss: 0.3086 - val_root_mean_squared_error: 0.5555\n",
      "Epoch 36/100\n",
      "108/108 [==============================] - 16s 145ms/step - loss: 4.7204e-05 - root_mean_squared_error: 0.0069 - val_loss: 0.3073 - val_root_mean_squared_error: 0.5544\n",
      "Epoch 37/100\n",
      "108/108 [==============================] - 16s 147ms/step - loss: 7.5053e-05 - root_mean_squared_error: 0.0087 - val_loss: 0.3082 - val_root_mean_squared_error: 0.5552\n",
      "Epoch 38/100\n",
      "108/108 [==============================] - 15s 141ms/step - loss: 6.4346e-05 - root_mean_squared_error: 0.0080 - val_loss: 0.3219 - val_root_mean_squared_error: 0.5673\n",
      "Epoch 39/100\n",
      "108/108 [==============================] - 16s 145ms/step - loss: 9.5876e-05 - root_mean_squared_error: 0.0098 - val_loss: 0.2910 - val_root_mean_squared_error: 0.5394\n",
      "Epoch 40/100\n",
      "108/108 [==============================] - 16s 146ms/step - loss: 1.3544e-04 - root_mean_squared_error: 0.0116 - val_loss: 0.2932 - val_root_mean_squared_error: 0.5415\n",
      "Epoch 41/100\n",
      "108/108 [==============================] - 16s 147ms/step - loss: 1.5213e-04 - root_mean_squared_error: 0.0123 - val_loss: 0.2611 - val_root_mean_squared_error: 0.5110\n",
      "Epoch 42/100\n",
      "108/108 [==============================] - 17s 159ms/step - loss: 0.0011 - root_mean_squared_error: 0.0334 - val_loss: 0.2760 - val_root_mean_squared_error: 0.5254\n",
      "Epoch 43/100\n",
      "108/108 [==============================] - 17s 153ms/step - loss: 5.8865e-05 - root_mean_squared_error: 0.0077 - val_loss: 0.2435 - val_root_mean_squared_error: 0.4934\n",
      "Epoch 44/100\n",
      "108/108 [==============================] - 16s 153ms/step - loss: 1.0281e-04 - root_mean_squared_error: 0.0101 - val_loss: 0.2588 - val_root_mean_squared_error: 0.5087\n",
      "Epoch 45/100\n",
      "108/108 [==============================] - 16s 149ms/step - loss: 1.1458e-04 - root_mean_squared_error: 0.0107 - val_loss: 0.3562 - val_root_mean_squared_error: 0.5969\n",
      "Epoch 46/100\n",
      "108/108 [==============================] - 16s 148ms/step - loss: 1.9912e-04 - root_mean_squared_error: 0.0141 - val_loss: 0.2807 - val_root_mean_squared_error: 0.5298\n",
      "Epoch 47/100\n",
      "108/108 [==============================] - 15s 141ms/step - loss: 8.7378e-05 - root_mean_squared_error: 0.0093 - val_loss: 0.2806 - val_root_mean_squared_error: 0.5297\n",
      "Epoch 48/100\n",
      "108/108 [==============================] - 15s 138ms/step - loss: 2.3952e-04 - root_mean_squared_error: 0.0155 - val_loss: 0.2282 - val_root_mean_squared_error: 0.4777\n",
      "Epoch 49/100\n",
      "108/108 [==============================] - 16s 147ms/step - loss: 4.7232e-04 - root_mean_squared_error: 0.0217 - val_loss: 0.2485 - val_root_mean_squared_error: 0.4985\n",
      "Epoch 50/100\n",
      "108/108 [==============================] - 16s 152ms/step - loss: 3.4684e-05 - root_mean_squared_error: 0.0059 - val_loss: 0.2280 - val_root_mean_squared_error: 0.4775\n",
      "Epoch 51/100\n",
      "108/108 [==============================] - 16s 152ms/step - loss: 4.1782e-05 - root_mean_squared_error: 0.0065 - val_loss: 0.2441 - val_root_mean_squared_error: 0.4941\n",
      "Epoch 52/100\n",
      "108/108 [==============================] - 16s 151ms/step - loss: 5.0244e-05 - root_mean_squared_error: 0.0071 - val_loss: 0.2301 - val_root_mean_squared_error: 0.4797\n",
      "Epoch 53/100\n",
      "108/108 [==============================] - 17s 154ms/step - loss: 1.1061e-04 - root_mean_squared_error: 0.0105 - val_loss: 0.2219 - val_root_mean_squared_error: 0.4711\n",
      "Epoch 54/100\n",
      "108/108 [==============================] - 17s 156ms/step - loss: 1.1381e-04 - root_mean_squared_error: 0.0107 - val_loss: 0.2977 - val_root_mean_squared_error: 0.5457\n",
      "Epoch 55/100\n",
      "108/108 [==============================] - 17s 155ms/step - loss: 1.4869e-04 - root_mean_squared_error: 0.0122 - val_loss: 0.2101 - val_root_mean_squared_error: 0.4584\n",
      "Epoch 56/100\n",
      "108/108 [==============================] - 18s 162ms/step - loss: 4.3334e-05 - root_mean_squared_error: 0.0066 - val_loss: 0.2231 - val_root_mean_squared_error: 0.4724\n",
      "Epoch 57/100\n",
      "108/108 [==============================] - 17s 160ms/step - loss: 7.5992e-05 - root_mean_squared_error: 0.0087 - val_loss: 0.2216 - val_root_mean_squared_error: 0.4707\n",
      "Epoch 58/100\n",
      "108/108 [==============================] - 17s 154ms/step - loss: 2.6811e-05 - root_mean_squared_error: 0.0052 - val_loss: 0.2183 - val_root_mean_squared_error: 0.4673\n",
      "Epoch 59/100\n",
      "108/108 [==============================] - 17s 153ms/step - loss: 3.1458e-05 - root_mean_squared_error: 0.0056 - val_loss: 0.1924 - val_root_mean_squared_error: 0.4386\n",
      "Epoch 60/100\n",
      "108/108 [==============================] - 17s 153ms/step - loss: 4.9238e-05 - root_mean_squared_error: 0.0070 - val_loss: 0.2228 - val_root_mean_squared_error: 0.4720\n",
      "Epoch 61/100\n",
      "108/108 [==============================] - 16s 151ms/step - loss: 1.6392e-04 - root_mean_squared_error: 0.0128 - val_loss: 0.3749 - val_root_mean_squared_error: 0.6123\n",
      "Epoch 62/100\n",
      "108/108 [==============================] - 16s 147ms/step - loss: 0.0011 - root_mean_squared_error: 0.0333 - val_loss: 0.1891 - val_root_mean_squared_error: 0.4348\n",
      "Epoch 63/100\n",
      "108/108 [==============================] - 16s 146ms/step - loss: 7.4948e-04 - root_mean_squared_error: 0.0274 - val_loss: 0.1947 - val_root_mean_squared_error: 0.4413\n",
      "Epoch 64/100\n",
      "108/108 [==============================] - 16s 149ms/step - loss: 8.8408e-05 - root_mean_squared_error: 0.0094 - val_loss: 0.1797 - val_root_mean_squared_error: 0.4239\n",
      "Epoch 65/100\n",
      "108/108 [==============================] - 16s 150ms/step - loss: 4.4126e-05 - root_mean_squared_error: 0.0066 - val_loss: 0.1796 - val_root_mean_squared_error: 0.4238\n",
      "Epoch 66/100\n",
      "108/108 [==============================] - 16s 149ms/step - loss: 4.2441e-05 - root_mean_squared_error: 0.0065 - val_loss: 0.1809 - val_root_mean_squared_error: 0.4253\n",
      "Epoch 67/100\n",
      "108/108 [==============================] - 16s 147ms/step - loss: 2.9068e-05 - root_mean_squared_error: 0.0054 - val_loss: 0.1820 - val_root_mean_squared_error: 0.4266\n",
      "Epoch 68/100\n",
      "108/108 [==============================] - 16s 147ms/step - loss: 6.2486e-05 - root_mean_squared_error: 0.0079 - val_loss: 0.1845 - val_root_mean_squared_error: 0.4295\n",
      "Epoch 69/100\n",
      "108/108 [==============================] - 16s 146ms/step - loss: 4.2182e-05 - root_mean_squared_error: 0.0065 - val_loss: 0.1742 - val_root_mean_squared_error: 0.4174\n",
      "Epoch 70/100\n",
      "108/108 [==============================] - 15s 139ms/step - loss: 3.5974e-05 - root_mean_squared_error: 0.0060 - val_loss: 0.1752 - val_root_mean_squared_error: 0.4186\n",
      "Epoch 71/100\n",
      "108/108 [==============================] - 15s 141ms/step - loss: 5.2093e-05 - root_mean_squared_error: 0.0072 - val_loss: 0.1804 - val_root_mean_squared_error: 0.4247\n",
      "Epoch 72/100\n",
      "108/108 [==============================] - 15s 141ms/step - loss: 6.9561e-05 - root_mean_squared_error: 0.0083 - val_loss: 0.1802 - val_root_mean_squared_error: 0.4245\n",
      "Epoch 73/100\n",
      "108/108 [==============================] - 16s 147ms/step - loss: 1.6789e-04 - root_mean_squared_error: 0.0130 - val_loss: 0.2182 - val_root_mean_squared_error: 0.4671\n",
      "Epoch 74/100\n",
      "108/108 [==============================] - 15s 138ms/step - loss: 2.4480e-04 - root_mean_squared_error: 0.0156 - val_loss: 0.1575 - val_root_mean_squared_error: 0.3969\n",
      "Epoch 75/100\n",
      "108/108 [==============================] - 15s 139ms/step - loss: 1.1294e-04 - root_mean_squared_error: 0.0106 - val_loss: 0.1532 - val_root_mean_squared_error: 0.3914\n",
      "Epoch 76/100\n",
      "108/108 [==============================] - 15s 139ms/step - loss: 2.0205e-04 - root_mean_squared_error: 0.0142 - val_loss: 0.0801 - val_root_mean_squared_error: 0.2829\n",
      "Epoch 77/100\n",
      "108/108 [==============================] - 15s 139ms/step - loss: 7.4234e-04 - root_mean_squared_error: 0.0272 - val_loss: 0.1093 - val_root_mean_squared_error: 0.3306\n",
      "Epoch 78/100\n",
      "108/108 [==============================] - 15s 140ms/step - loss: 5.1920e-05 - root_mean_squared_error: 0.0072 - val_loss: 0.1261 - val_root_mean_squared_error: 0.3551\n",
      "Epoch 79/100\n",
      "108/108 [==============================] - 15s 142ms/step - loss: 4.2324e-05 - root_mean_squared_error: 0.0065 - val_loss: 0.1248 - val_root_mean_squared_error: 0.3533\n",
      "Epoch 80/100\n",
      "108/108 [==============================] - 16s 145ms/step - loss: 3.6917e-05 - root_mean_squared_error: 0.0061 - val_loss: 0.1308 - val_root_mean_squared_error: 0.3616\n",
      "Epoch 81/100\n",
      "108/108 [==============================] - 15s 141ms/step - loss: 4.5001e-05 - root_mean_squared_error: 0.0067 - val_loss: 0.1408 - val_root_mean_squared_error: 0.3753\n",
      "Epoch 82/100\n",
      "108/108 [==============================] - 15s 138ms/step - loss: 9.8003e-05 - root_mean_squared_error: 0.0099 - val_loss: 0.1293 - val_root_mean_squared_error: 0.3595\n",
      "Epoch 83/100\n",
      "108/108 [==============================] - 15s 138ms/step - loss: 6.2250e-05 - root_mean_squared_error: 0.0079 - val_loss: 0.1307 - val_root_mean_squared_error: 0.3615\n",
      "Epoch 84/100\n",
      "108/108 [==============================] - 15s 137ms/step - loss: 1.8641e-04 - root_mean_squared_error: 0.0137 - val_loss: 0.1417 - val_root_mean_squared_error: 0.3765\n",
      "Epoch 85/100\n",
      "108/108 [==============================] - 15s 138ms/step - loss: 1.5979e-04 - root_mean_squared_error: 0.0126 - val_loss: 0.1694 - val_root_mean_squared_error: 0.4115\n",
      "Epoch 86/100\n",
      "108/108 [==============================] - 15s 138ms/step - loss: 1.0859e-04 - root_mean_squared_error: 0.0104 - val_loss: 0.1401 - val_root_mean_squared_error: 0.3743\n",
      "Epoch 87/100\n",
      "108/108 [==============================] - 15s 140ms/step - loss: 5.3388e-05 - root_mean_squared_error: 0.0073 - val_loss: 0.1326 - val_root_mean_squared_error: 0.3642\n",
      "Epoch 88/100\n",
      "108/108 [==============================] - 16s 147ms/step - loss: 8.8844e-05 - root_mean_squared_error: 0.0094 - val_loss: 0.1402 - val_root_mean_squared_error: 0.3744\n",
      "Epoch 89/100\n",
      "108/108 [==============================] - 15s 140ms/step - loss: 1.1161e-04 - root_mean_squared_error: 0.0106 - val_loss: 0.1443 - val_root_mean_squared_error: 0.3798\n",
      "Epoch 90/100\n",
      "108/108 [==============================] - 15s 140ms/step - loss: 1.2528e-04 - root_mean_squared_error: 0.0112 - val_loss: 0.0529 - val_root_mean_squared_error: 0.2300\n",
      "Epoch 91/100\n",
      "108/108 [==============================] - 15s 140ms/step - loss: 8.8071e-04 - root_mean_squared_error: 0.0297 - val_loss: 0.1564 - val_root_mean_squared_error: 0.3955\n",
      "Epoch 92/100\n",
      "108/108 [==============================] - 15s 138ms/step - loss: 6.0646e-05 - root_mean_squared_error: 0.0078 - val_loss: 0.1414 - val_root_mean_squared_error: 0.3761\n",
      "Epoch 93/100\n",
      "108/108 [==============================] - 15s 138ms/step - loss: 4.2102e-05 - root_mean_squared_error: 0.0065 - val_loss: 0.1389 - val_root_mean_squared_error: 0.3727\n",
      "Epoch 94/100\n",
      "108/108 [==============================] - 15s 141ms/step - loss: 3.9661e-05 - root_mean_squared_error: 0.0063 - val_loss: 0.1358 - val_root_mean_squared_error: 0.3686\n",
      "Epoch 95/100\n",
      "108/108 [==============================] - 15s 143ms/step - loss: 1.1376e-04 - root_mean_squared_error: 0.0107 - val_loss: 0.1434 - val_root_mean_squared_error: 0.3787\n",
      "Epoch 96/100\n",
      "108/108 [==============================] - 16s 143ms/step - loss: 6.5188e-05 - root_mean_squared_error: 0.0081 - val_loss: 0.1016 - val_root_mean_squared_error: 0.3188\n",
      "Epoch 97/100\n",
      "108/108 [==============================] - 15s 139ms/step - loss: 7.8082e-05 - root_mean_squared_error: 0.0088 - val_loss: 0.1332 - val_root_mean_squared_error: 0.3650\n",
      "Epoch 98/100\n",
      "108/108 [==============================] - 15s 139ms/step - loss: 6.4420e-05 - root_mean_squared_error: 0.0080 - val_loss: 0.1183 - val_root_mean_squared_error: 0.3439\n",
      "Epoch 99/100\n",
      "108/108 [==============================] - 15s 137ms/step - loss: 1.5380e-04 - root_mean_squared_error: 0.0124 - val_loss: 0.1727 - val_root_mean_squared_error: 0.4156\n",
      "Epoch 100/100\n",
      "108/108 [==============================] - 15s 138ms/step - loss: 7.7320e-05 - root_mean_squared_error: 0.0088 - val_loss: 0.1185 - val_root_mean_squared_error: 0.3442\n"
     ]
    }
   ],
   "source": [
    "history=model.fit(train_generator, validation_data = test_generator, epochs=100)"
   ]
  },
  {
   "cell_type": "code",
   "execution_count": 17,
   "metadata": {},
   "outputs": [],
   "source": [
    "loss = history.history['loss']\n",
    "val_loss = history.history['val_loss']\n",
    "epochs = range(1,len(loss)+1)"
   ]
  },
  {
   "cell_type": "code",
   "execution_count": 18,
   "metadata": {},
   "outputs": [],
   "source": [
    "import matplotlib.pyplot as plt"
   ]
  },
  {
   "cell_type": "code",
   "execution_count": 19,
   "metadata": {},
   "outputs": [
    {
     "data": {
      "image/png": "[encoded data removed]",
      "text/plain": [
       "<Figure size 432x288 with 1 Axes>"
      ]
     },
     "metadata": {
      "needs_background": "light"
     },
     "output_type": "display_data"
    }
   ],
   "source": [
    "plt.plot(epochs, loss, 'y',label='Training loss')\n",
    "plt.plot(epochs, val_loss, 'r',label='Validation loss')\n",
    "plt.title('Training and Validation loss')\n",
    "plt.xlabel('Epochs')\n",
    "plt.ylabel('Loss')\n",
    "plt.legend()\n",
    "plt.show()"
   ]
  },
  {
   "cell_type": "code",
   "execution_count": 20,
   "metadata": {},
   "outputs": [
    {
     "data": {
      "image/png": "[encoded data removed]",
      "text/plain": [
       "<Figure size 432x288 with 1 Axes>"
      ]
     },
     "metadata": {
      "needs_background": "light"
     },
     "output_type": "display_data"
    }
   ],
   "source": [
    "plt.plot(epochs[2:], loss[2:], 'y',label='Training loss')\n",
    "plt.plot(epochs[2:], val_loss[2:], 'r',label='Validation loss')\n",
    "plt.title('Training and Validation loss')\n",
    "plt.xlabel('Epochs')\n",
    "plt.ylabel('Loss')\n",
    "plt.legend()\n",
    "plt.show()"
   ]
  },
  {
   "cell_type": "code",
   "execution_count": 21,
   "metadata": {},
   "outputs": [],
   "source": [
    "import numpy as np\n",
    "\n",
    "predictions = []\n",
    "\n",
    "first_batch = train_scaled[-window_size:]\n",
    "current_batch = first_batch.reshape((1, window_size, n_features))\n"
   ]
  },
  {
   "cell_type": "code",
   "execution_count": 22,
   "metadata": {},
   "outputs": [],
   "source": [
    "future = 60\n",
    "for i in range(future):\n",
    "    current_pred = model.predict(current_batch)[0]\n",
    "\n",
    "    predictions.append(current_pred)\n",
    "    \n",
    "    current_batch_rmv_first = current_batch[:,1:,:]\n",
    "\n",
    "    current_batch = np.append(current_batch_rmv_first,[[current_pred]], axis=1)"
   ]
  },
  {
   "cell_type": "code",
   "execution_count": 23,
   "metadata": {},
   "outputs": [
    {
     "data": {
      "text/plain": [
       "<matplotlib.legend.Legend at 0x2550eb91c70>"
      ]
     },
     "execution_count": 23,
     "metadata": {},
     "output_type": "execute_result"
    },
    {
     "data": {
      "image/png": "[encoded data removed]",
      "text/plain": [
       "<Figure size 432x288 with 1 Axes>"
      ]
     },
     "metadata": {
      "needs_background": "light"
     },
     "output_type": "display_data"
    }
   ],
   "source": [
    "predictions_actual_scale = scaler.inverse_transform(predictions)\n",
    "test_data_actual_scale = scaler.inverse_transform(test_scaled)\n",
    "train_data_actual_scale =scaler.inverse_transform(train_scaled)\n",
    "\n",
    "plt.plot(train_data_actual_scale, label='train')\n",
    "plt.plot(predictions_actual_scale, label='predicciones')\n",
    "plt.plot(test_data_actual_scale, label='test')\n",
    "plt.legend()"
   ]
  },
  {
   "cell_type": "code",
   "execution_count": 24,
   "metadata": {},
   "outputs": [
    {
     "name": "stdout",
     "output_type": "stream",
     "text": [
      "WARNING:tensorflow:Model was constructed with shape (None, 30, 1) for input KerasTensor(type_spec=TensorSpec(shape=(None, 30, 1), dtype=tf.float32, name='lstm_input'), name='lstm_input', description=\"created by layer 'lstm_input'\"), but it was called on an input with incompatible shape (None, 1, 1).\n"
     ]
    }
   ],
   "source": [
    "test_prediction=model.predict(test_scaled)\n",
    "test_prediction_data_actual_scale = scaler.inverse_transform(test_prediction)\n"
   ]
  },
  {
   "cell_type": "code",
   "execution_count": 25,
   "metadata": {},
   "outputs": [
    {
     "data": {
      "text/plain": [
       "(138,)"
      ]
     },
     "execution_count": 25,
     "metadata": {},
     "output_type": "execute_result"
    }
   ],
   "source": [
    "train_data_actual_scale[:,0].shape"
   ]
  },
  {
   "cell_type": "code",
   "execution_count": 26,
   "metadata": {},
   "outputs": [
    {
     "data": {
      "text/plain": [
       "(138,)"
      ]
     },
     "execution_count": 26,
     "metadata": {},
     "output_type": "execute_result"
    }
   ],
   "source": [
    "rng1 = pd.date_range('2020-03-06', periods=138, freq='D')\n",
    "rng1.shape"
   ]
  },
  {
   "cell_type": "code",
   "execution_count": 27,
   "metadata": {},
   "outputs": [
    {
     "data": {
      "text/html": [
       "<div>\n",
       "<style scoped>\n",
       "    .dataframe tbody tr th:only-of-type {\n",
       "        vertical-align: middle;\n",
       "    }\n",
       "\n",
       "    .dataframe tbody tr th {\n",
       "        vertical-align: top;\n",
       "    }\n",
       "\n",
       "    .dataframe thead th {\n",
       "        text-align: right;\n",
       "    }\n",
       "</style>\n",
       "<table border=\"1\" class=\"dataframe\">\n",
       "  <thead>\n",
       "    <tr style=\"text-align: right;\">\n",
       "      <th></th>\n",
       "      <th>train</th>\n",
       "    </tr>\n",
       "    <tr>\n",
       "      <th>Date</th>\n",
       "      <th></th>\n",
       "    </tr>\n",
       "  </thead>\n",
       "  <tbody>\n",
       "    <tr>\n",
       "      <th>2020-03-06</th>\n",
       "      <td>1.0</td>\n",
       "    </tr>\n",
       "    <tr>\n",
       "      <th>2020-03-07</th>\n",
       "      <td>1.0</td>\n",
       "    </tr>\n",
       "    <tr>\n",
       "      <th>2020-03-08</th>\n",
       "      <td>1.0</td>\n",
       "    </tr>\n",
       "    <tr>\n",
       "      <th>2020-03-09</th>\n",
       "      <td>1.0</td>\n",
       "    </tr>\n",
       "    <tr>\n",
       "      <th>2020-03-10</th>\n",
       "      <td>3.0</td>\n",
       "    </tr>\n",
       "    <tr>\n",
       "      <th>...</th>\n",
       "      <td>...</td>\n",
       "    </tr>\n",
       "    <tr>\n",
       "      <th>2020-07-17</th>\n",
       "      <td>63192.0</td>\n",
       "    </tr>\n",
       "    <tr>\n",
       "      <th>2020-07-18</th>\n",
       "      <td>65655.0</td>\n",
       "    </tr>\n",
       "    <tr>\n",
       "      <th>2020-07-19</th>\n",
       "      <td>68127.0</td>\n",
       "    </tr>\n",
       "    <tr>\n",
       "      <th>2020-07-20</th>\n",
       "      <td>69929.0</td>\n",
       "    </tr>\n",
       "    <tr>\n",
       "      <th>2020-07-21</th>\n",
       "      <td>73533.0</td>\n",
       "    </tr>\n",
       "  </tbody>\n",
       "</table>\n",
       "<p>138 rows × 1 columns</p>\n",
       "</div>"
      ],
      "text/plain": [
       "              train\n",
       "Date               \n",
       "2020-03-06      1.0\n",
       "2020-03-07      1.0\n",
       "2020-03-08      1.0\n",
       "2020-03-09      1.0\n",
       "2020-03-10      3.0\n",
       "...             ...\n",
       "2020-07-17  63192.0\n",
       "2020-07-18  65655.0\n",
       "2020-07-19  68127.0\n",
       "2020-07-20  69929.0\n",
       "2020-07-21  73533.0\n",
       "\n",
       "[138 rows x 1 columns]"
      ]
     },
     "execution_count": 27,
     "metadata": {},
     "output_type": "execute_result"
    }
   ],
   "source": [
    "df = pd.DataFrame({'Date':rng1,'train':train_data_actual_scale[:,0]})\n",
    "df\n",
    "df.set_index('Date', inplace = True)\n",
    "df"
   ]
  },
  {
   "cell_type": "code",
   "execution_count": 28,
   "metadata": {},
   "outputs": [
    {
     "data": {
      "text/plain": [
       "(14,)"
      ]
     },
     "execution_count": 28,
     "metadata": {},
     "output_type": "execute_result"
    }
   ],
   "source": [
    "rng2 = pd.date_range('2020-07-22', periods=len(test), freq='D')\n",
    "rng2.shape"
   ]
  },
  {
   "cell_type": "code",
   "execution_count": 29,
   "metadata": {},
   "outputs": [
    {
     "data": {
      "text/html": [
       "<div>\n",
       "<style scoped>\n",
       "    .dataframe tbody tr th:only-of-type {\n",
       "        vertical-align: middle;\n",
       "    }\n",
       "\n",
       "    .dataframe tbody tr th {\n",
       "        vertical-align: top;\n",
       "    }\n",
       "\n",
       "    .dataframe thead th {\n",
       "        text-align: right;\n",
       "    }\n",
       "</style>\n",
       "<table border=\"1\" class=\"dataframe\">\n",
       "  <thead>\n",
       "    <tr style=\"text-align: right;\">\n",
       "      <th></th>\n",
       "      <th>Test</th>\n",
       "    </tr>\n",
       "    <tr>\n",
       "      <th>Date</th>\n",
       "      <th></th>\n",
       "    </tr>\n",
       "  </thead>\n",
       "  <tbody>\n",
       "    <tr>\n",
       "      <th>2020-07-22</th>\n",
       "      <td>4457.886719</td>\n",
       "    </tr>\n",
       "    <tr>\n",
       "      <th>2020-07-23</th>\n",
       "      <td>4537.964844</td>\n",
       "    </tr>\n",
       "    <tr>\n",
       "      <th>2020-07-24</th>\n",
       "      <td>4660.152344</td>\n",
       "    </tr>\n",
       "    <tr>\n",
       "      <th>2020-07-25</th>\n",
       "      <td>4762.352539</td>\n",
       "    </tr>\n",
       "    <tr>\n",
       "      <th>2020-07-26</th>\n",
       "      <td>4837.336914</td>\n",
       "    </tr>\n",
       "    <tr>\n",
       "      <th>2020-07-27</th>\n",
       "      <td>4959.086426</td>\n",
       "    </tr>\n",
       "    <tr>\n",
       "      <th>2020-07-28</th>\n",
       "      <td>5088.613281</td>\n",
       "    </tr>\n",
       "    <tr>\n",
       "      <th>2020-07-29</th>\n",
       "      <td>5189.988281</td>\n",
       "    </tr>\n",
       "    <tr>\n",
       "      <th>2020-07-30</th>\n",
       "      <td>5309.093750</td>\n",
       "    </tr>\n",
       "    <tr>\n",
       "      <th>2020-07-31</th>\n",
       "      <td>5432.111816</td>\n",
       "    </tr>\n",
       "    <tr>\n",
       "      <th>2020-08-01</th>\n",
       "      <td>5559.982910</td>\n",
       "    </tr>\n",
       "    <tr>\n",
       "      <th>2020-08-02</th>\n",
       "      <td>5641.503906</td>\n",
       "    </tr>\n",
       "    <tr>\n",
       "      <th>2020-08-03</th>\n",
       "      <td>5746.653809</td>\n",
       "    </tr>\n",
       "    <tr>\n",
       "      <th>2020-08-04</th>\n",
       "      <td>5924.234863</td>\n",
       "    </tr>\n",
       "  </tbody>\n",
       "</table>\n",
       "</div>"
      ],
      "text/plain": [
       "                   Test\n",
       "Date                   \n",
       "2020-07-22  4457.886719\n",
       "2020-07-23  4537.964844\n",
       "2020-07-24  4660.152344\n",
       "2020-07-25  4762.352539\n",
       "2020-07-26  4837.336914\n",
       "2020-07-27  4959.086426\n",
       "2020-07-28  5088.613281\n",
       "2020-07-29  5189.988281\n",
       "2020-07-30  5309.093750\n",
       "2020-07-31  5432.111816\n",
       "2020-08-01  5559.982910\n",
       "2020-08-02  5641.503906\n",
       "2020-08-03  5746.653809\n",
       "2020-08-04  5924.234863"
      ]
     },
     "execution_count": 29,
     "metadata": {},
     "output_type": "execute_result"
    }
   ],
   "source": [
    "df2 = pd.DataFrame({'Date':rng2,'Test':test_prediction_data_actual_scale[:,0]})\n",
    "df2.set_index('Date', inplace = True)\n",
    "df2"
   ]
  },
  {
   "cell_type": "code",
   "execution_count": 30,
   "metadata": {},
   "outputs": [
    {
     "data": {
      "text/plain": [
       "(60,)"
      ]
     },
     "execution_count": 30,
     "metadata": {},
     "output_type": "execute_result"
    }
   ],
   "source": [
    "predictions_actual_scale[:,0].shape"
   ]
  },
  {
   "cell_type": "code",
   "execution_count": 31,
   "metadata": {},
   "outputs": [
    {
     "data": {
      "text/plain": [
       "(60,)"
      ]
     },
     "execution_count": 31,
     "metadata": {},
     "output_type": "execute_result"
    }
   ],
   "source": [
    "rng3 = pd.date_range('2020-08-04', periods=future, freq='D')\n",
    "rng3.shape"
   ]
  },
  {
   "cell_type": "code",
   "execution_count": 36,
   "metadata": {},
   "outputs": [
    {
     "data": {
      "text/html": [
       "<div>\n",
       "<style scoped>\n",
       "    .dataframe tbody tr th:only-of-type {\n",
       "        vertical-align: middle;\n",
       "    }\n",
       "\n",
       "    .dataframe tbody tr th {\n",
       "        vertical-align: top;\n",
       "    }\n",
       "\n",
       "    .dataframe thead th {\n",
       "        text-align: right;\n",
       "    }\n",
       "</style>\n",
       "<table border=\"1\" class=\"dataframe\">\n",
       "  <thead>\n",
       "    <tr style=\"text-align: right;\">\n",
       "      <th></th>\n",
       "      <th>Predictions</th>\n",
       "    </tr>\n",
       "    <tr>\n",
       "      <th>Date</th>\n",
       "      <th></th>\n",
       "    </tr>\n",
       "  </thead>\n",
       "  <tbody>\n",
       "    <tr>\n",
       "      <th>2020-08-04</th>\n",
       "      <td>74780.463940</td>\n",
       "    </tr>\n",
       "    <tr>\n",
       "      <th>2020-08-05</th>\n",
       "      <td>77405.544895</td>\n",
       "    </tr>\n",
       "    <tr>\n",
       "      <th>2020-08-06</th>\n",
       "      <td>80085.578008</td>\n",
       "    </tr>\n",
       "    <tr>\n",
       "      <th>2020-08-07</th>\n",
       "      <td>82824.902299</td>\n",
       "    </tr>\n",
       "    <tr>\n",
       "      <th>2020-08-08</th>\n",
       "      <td>85630.197229</td>\n",
       "    </tr>\n",
       "    <tr>\n",
       "      <th>2020-08-09</th>\n",
       "      <td>88505.810584</td>\n",
       "    </tr>\n",
       "    <tr>\n",
       "      <th>2020-08-10</th>\n",
       "      <td>91453.548098</td>\n",
       "    </tr>\n",
       "    <tr>\n",
       "      <th>2020-08-11</th>\n",
       "      <td>94475.338224</td>\n",
       "    </tr>\n",
       "    <tr>\n",
       "      <th>2020-08-12</th>\n",
       "      <td>97571.601717</td>\n",
       "    </tr>\n",
       "    <tr>\n",
       "      <th>2020-08-13</th>\n",
       "      <td>100741.926587</td>\n",
       "    </tr>\n",
       "    <tr>\n",
       "      <th>2020-08-14</th>\n",
       "      <td>103988.504259</td>\n",
       "    </tr>\n",
       "    <tr>\n",
       "      <th>2020-08-15</th>\n",
       "      <td>107317.672333</td>\n",
       "    </tr>\n",
       "    <tr>\n",
       "      <th>2020-08-16</th>\n",
       "      <td>110743.087766</td>\n",
       "    </tr>\n",
       "    <tr>\n",
       "      <th>2020-08-17</th>\n",
       "      <td>114266.503696</td>\n",
       "    </tr>\n",
       "    <tr>\n",
       "      <th>2020-08-18</th>\n",
       "      <td>117893.249668</td>\n",
       "    </tr>\n",
       "    <tr>\n",
       "      <th>2020-08-19</th>\n",
       "      <td>121625.867734</td>\n",
       "    </tr>\n",
       "    <tr>\n",
       "      <th>2020-08-20</th>\n",
       "      <td>125467.417123</td>\n",
       "    </tr>\n",
       "    <tr>\n",
       "      <th>2020-08-21</th>\n",
       "      <td>129423.972463</td>\n",
       "    </tr>\n",
       "    <tr>\n",
       "      <th>2020-08-22</th>\n",
       "      <td>133499.785117</td>\n",
       "    </tr>\n",
       "    <tr>\n",
       "      <th>2020-08-23</th>\n",
       "      <td>137697.774063</td>\n",
       "    </tr>\n",
       "    <tr>\n",
       "      <th>2020-08-24</th>\n",
       "      <td>142025.705708</td>\n",
       "    </tr>\n",
       "    <tr>\n",
       "      <th>2020-08-25</th>\n",
       "      <td>146490.925706</td>\n",
       "    </tr>\n",
       "    <tr>\n",
       "      <th>2020-08-26</th>\n",
       "      <td>151099.780424</td>\n",
       "    </tr>\n",
       "    <tr>\n",
       "      <th>2020-08-27</th>\n",
       "      <td>155859.659344</td>\n",
       "    </tr>\n",
       "    <tr>\n",
       "      <th>2020-08-28</th>\n",
       "      <td>160774.393075</td>\n",
       "    </tr>\n",
       "    <tr>\n",
       "      <th>2020-08-29</th>\n",
       "      <td>165852.133717</td>\n",
       "    </tr>\n",
       "    <tr>\n",
       "      <th>2020-08-30</th>\n",
       "      <td>171104.434458</td>\n",
       "    </tr>\n",
       "    <tr>\n",
       "      <th>2020-08-31</th>\n",
       "      <td>176539.359740</td>\n",
       "    </tr>\n",
       "    <tr>\n",
       "      <th>2020-09-01</th>\n",
       "      <td>182167.463464</td>\n",
       "    </tr>\n",
       "    <tr>\n",
       "      <th>2020-09-02</th>\n",
       "      <td>188002.928527</td>\n",
       "    </tr>\n",
       "    <tr>\n",
       "      <th>2020-09-03</th>\n",
       "      <td>194050.681252</td>\n",
       "    </tr>\n",
       "    <tr>\n",
       "      <th>2020-09-04</th>\n",
       "      <td>200334.441615</td>\n",
       "    </tr>\n",
       "    <tr>\n",
       "      <th>2020-09-05</th>\n",
       "      <td>206862.712344</td>\n",
       "    </tr>\n",
       "    <tr>\n",
       "      <th>2020-09-06</th>\n",
       "      <td>213651.639853</td>\n",
       "    </tr>\n",
       "    <tr>\n",
       "      <th>2020-09-07</th>\n",
       "      <td>220718.930852</td>\n",
       "    </tr>\n",
       "    <tr>\n",
       "      <th>2020-09-08</th>\n",
       "      <td>228083.922468</td>\n",
       "    </tr>\n",
       "    <tr>\n",
       "      <th>2020-09-09</th>\n",
       "      <td>235767.582251</td>\n",
       "    </tr>\n",
       "    <tr>\n",
       "      <th>2020-09-10</th>\n",
       "      <td>243792.473104</td>\n",
       "    </tr>\n",
       "    <tr>\n",
       "      <th>2020-09-11</th>\n",
       "      <td>252183.875301</td>\n",
       "    </tr>\n",
       "    <tr>\n",
       "      <th>2020-09-12</th>\n",
       "      <td>260970.698112</td>\n",
       "    </tr>\n",
       "    <tr>\n",
       "      <th>2020-09-13</th>\n",
       "      <td>270186.075871</td>\n",
       "    </tr>\n",
       "    <tr>\n",
       "      <th>2020-09-14</th>\n",
       "      <td>279866.771916</td>\n",
       "    </tr>\n",
       "    <tr>\n",
       "      <th>2020-09-15</th>\n",
       "      <td>290053.143517</td>\n",
       "    </tr>\n",
       "    <tr>\n",
       "      <th>2020-09-16</th>\n",
       "      <td>300791.105398</td>\n",
       "    </tr>\n",
       "    <tr>\n",
       "      <th>2020-09-17</th>\n",
       "      <td>312132.410236</td>\n",
       "    </tr>\n",
       "    <tr>\n",
       "      <th>2020-09-18</th>\n",
       "      <td>324135.735611</td>\n",
       "    </tr>\n",
       "    <tr>\n",
       "      <th>2020-09-19</th>\n",
       "      <td>336865.737307</td>\n",
       "    </tr>\n",
       "    <tr>\n",
       "      <th>2020-09-20</th>\n",
       "      <td>350397.099066</td>\n",
       "    </tr>\n",
       "    <tr>\n",
       "      <th>2020-09-21</th>\n",
       "      <td>364822.667156</td>\n",
       "    </tr>\n",
       "    <tr>\n",
       "      <th>2020-09-22</th>\n",
       "      <td>380247.770199</td>\n",
       "    </tr>\n",
       "    <tr>\n",
       "      <th>2020-09-23</th>\n",
       "      <td>396795.513649</td>\n",
       "    </tr>\n",
       "    <tr>\n",
       "      <th>2020-09-24</th>\n",
       "      <td>414611.863901</td>\n",
       "    </tr>\n",
       "    <tr>\n",
       "      <th>2020-09-25</th>\n",
       "      <td>433870.066200</td>\n",
       "    </tr>\n",
       "    <tr>\n",
       "      <th>2020-09-26</th>\n",
       "      <td>454774.817114</td>\n",
       "    </tr>\n",
       "    <tr>\n",
       "      <th>2020-09-27</th>\n",
       "      <td>477567.348637</td>\n",
       "    </tr>\n",
       "    <tr>\n",
       "      <th>2020-09-28</th>\n",
       "      <td>502542.959585</td>\n",
       "    </tr>\n",
       "    <tr>\n",
       "      <th>2020-09-29</th>\n",
       "      <td>530052.453173</td>\n",
       "    </tr>\n",
       "    <tr>\n",
       "      <th>2020-09-30</th>\n",
       "      <td>560527.592594</td>\n",
       "    </tr>\n",
       "    <tr>\n",
       "      <th>2020-10-01</th>\n",
       "      <td>594524.263321</td>\n",
       "    </tr>\n",
       "    <tr>\n",
       "      <th>2020-10-02</th>\n",
       "      <td>632742.283577</td>\n",
       "    </tr>\n",
       "  </tbody>\n",
       "</table>\n",
       "</div>"
      ],
      "text/plain": [
       "              Predictions\n",
       "Date                     \n",
       "2020-08-04   74780.463940\n",
       "2020-08-05   77405.544895\n",
       "2020-08-06   80085.578008\n",
       "2020-08-07   82824.902299\n",
       "2020-08-08   85630.197229\n",
       "2020-08-09   88505.810584\n",
       "2020-08-10   91453.548098\n",
       "2020-08-11   94475.338224\n",
       "2020-08-12   97571.601717\n",
       "2020-08-13  100741.926587\n",
       "2020-08-14  103988.504259\n",
       "2020-08-15  107317.672333\n",
       "2020-08-16  110743.087766\n",
       "2020-08-17  114266.503696\n",
       "2020-08-18  117893.249668\n",
       "2020-08-19  121625.867734\n",
       "2020-08-20  125467.417123\n",
       "2020-08-21  129423.972463\n",
       "2020-08-22  133499.785117\n",
       "2020-08-23  137697.774063\n",
       "2020-08-24  142025.705708\n",
       "2020-08-25  146490.925706\n",
       "2020-08-26  151099.780424\n",
       "2020-08-27  155859.659344\n",
       "2020-08-28  160774.393075\n",
       "2020-08-29  165852.133717\n",
       "2020-08-30  171104.434458\n",
       "2020-08-31  176539.359740\n",
       "2020-09-01  182167.463464\n",
       "2020-09-02  188002.928527\n",
       "2020-09-03  194050.681252\n",
       "2020-09-04  200334.441615\n",
       "2020-09-05  206862.712344\n",
       "2020-09-06  213651.639853\n",
       "2020-09-07  220718.930852\n",
       "2020-09-08  228083.922468\n",
       "2020-09-09  235767.582251\n",
       "2020-09-10  243792.473104\n",
       "2020-09-11  252183.875301\n",
       "2020-09-12  260970.698112\n",
       "2020-09-13  270186.075871\n",
       "2020-09-14  279866.771916\n",
       "2020-09-15  290053.143517\n",
       "2020-09-16  300791.105398\n",
       "2020-09-17  312132.410236\n",
       "2020-09-18  324135.735611\n",
       "2020-09-19  336865.737307\n",
       "2020-09-20  350397.099066\n",
       "2020-09-21  364822.667156\n",
       "2020-09-22  380247.770199\n",
       "2020-09-23  396795.513649\n",
       "2020-09-24  414611.863901\n",
       "2020-09-25  433870.066200\n",
       "2020-09-26  454774.817114\n",
       "2020-09-27  477567.348637\n",
       "2020-09-28  502542.959585\n",
       "2020-09-29  530052.453173\n",
       "2020-09-30  560527.592594\n",
       "2020-10-01  594524.263321\n",
       "2020-10-02  632742.283577"
      ]
     },
     "execution_count": 36,
     "metadata": {},
     "output_type": "execute_result"
    }
   ],
   "source": [
    "df3 = pd.DataFrame({'Date':rng3,'Predictions':predictions_actual_scale[:,0]})\n",
    "df3.set_index('Date', inplace = True)\n",
    "df3"
   ]
  },
  {
   "cell_type": "code",
   "execution_count": 38,
   "metadata": {},
   "outputs": [
    {
     "data": {
      "text/plain": [
       "<matplotlib.legend.Legend at 0x25516273e50>"
      ]
     },
     "execution_count": 38,
     "metadata": {},
     "output_type": "execute_result"
    },
    {
     "data": {
      "image/png": "[encoded data removed]",
      "text/plain": [
       "<Figure size 432x288 with 1 Axes>"
      ]
     },
     "metadata": {
      "needs_background": "light"
     },
     "output_type": "display_data"
    }
   ],
   "source": [
    "plt.plot(df,'r', label='Entrenamiento')\n",
    "plt.plot(df2,'y', label='Validación')\n",
    "plt.plot(df3, label='Predicción')\n",
    "plt.legend()"
   ]
  },
  {
   "cell_type": "code",
   "execution_count": 42,
   "metadata": {},
   "outputs": [
    {
     "data": {
      "text/plain": [
       "{'Actual': array([ 77437.,  79880.,  83604.,  86717.,  89002.,  92710.,  96653.,\n",
       "         99736., 103354., 107086., 110960., 113427., 116606., 121973.]),\n",
       " 'Prediction': array([4457.8867, 4537.965 , 4660.1523, 4762.3525, 4837.337 , 4959.0864,\n",
       "        5088.6133, 5189.9883, 5309.0938, 5432.112 , 5559.983 , 5641.504 ,\n",
       "        5746.654 , 5924.235 ], dtype=float32)}"
      ]
     },
     "execution_count": 42,
     "metadata": {},
     "output_type": "execute_result"
    }
   ],
   "source": [
    "dff = pd.DataFrame=({'Actual':test_data_actual_scale[:,0],'Prediction':test_prediction_data_actual_scale[:,0]})\n",
    "dff"
   ]
  },
  {
   "cell_type": "code",
   "execution_count": 44,
   "metadata": {},
   "outputs": [],
   "source": [
    "import tensorflow as tf\n",
    "mse = tf.keras.losses.MeanSquaredError()"
   ]
  },
  {
   "cell_type": "code",
   "execution_count": 45,
   "metadata": {},
   "outputs": [
    {
     "data": {
      "text/plain": [
       "<tf.Tensor: shape=(), dtype=float32, numpy=8892020000.0>"
      ]
     },
     "execution_count": 45,
     "metadata": {},
     "output_type": "execute_result"
    }
   ],
   "source": [
    "mse(dff['Actual'],dff['Prediction'])"
   ]
  },
  {
   "cell_type": "code",
   "execution_count": 43,
   "metadata": {},
   "outputs": [
    {
     "data": {
      "text/plain": [
       "{'Actual': array([1.05309253, 1.08631616, 1.13696078, 1.17929609, 1.21037099,\n",
       "        1.26079802, 1.31442093, 1.35634826, 1.40555132, 1.45630474,\n",
       "        1.50898928, 1.5425393 , 1.58577218, 1.65876081]),\n",
       " 'Prediction': array([0.06061152, 0.06170055, 0.06336224, 0.06475212, 0.06577187,\n",
       "        0.06742761, 0.06918911, 0.07056776, 0.07218754, 0.07386053,\n",
       "        0.07559951, 0.07670815, 0.07813814, 0.08055316], dtype=float32)}"
      ]
     },
     "execution_count": 43,
     "metadata": {},
     "output_type": "execute_result"
    }
   ],
   "source": [
    "dff1 = pd.DataFrame=({'Actual':test_scaled[:,0],'Prediction':test_prediction[:,0]})\n",
    "dff1"
   ]
  },
  {
   "cell_type": "code",
   "execution_count": 46,
   "metadata": {},
   "outputs": [
    {
     "data": {
      "text/plain": [
       "<tf.Tensor: shape=(), dtype=float32, numpy=1.644552>"
      ]
     },
     "execution_count": 46,
     "metadata": {},
     "output_type": "execute_result"
    }
   ],
   "source": [
    "mse(dff1['Actual'],dff1['Prediction'])"
   ]
  },
  {
   "cell_type": "code",
   "execution_count": null,
   "metadata": {},
   "outputs": [],
   "source": []
  }
 ],
 "metadata": {
  "interpreter": {
   "hash": "b3ba2566441a7c06988d0923437866b63cedc61552a5af99d1f4fb67d367b25f"
  },
  "kernelspec": {
   "display_name": "Python 3.9.7 ('base')",
   "language": "python",
   "name": "python3"
  },
  "language_info": {
   "codemirror_mode": {
    "name": "ipython",
    "version": 3
   },
   "file_extension": ".py",
   "mimetype": "text/x-python",
   "name": "python",
   "nbconvert_exporter": "python",
   "pygments_lexer": "ipython3",
   "version": "3.9.7"
  },
  "orig_nbformat": 4
 },
 "nbformat": 4,
 "nbformat_minor": 2
}
